{
 "cells": [
  {
   "cell_type": "code",
   "execution_count": 21,
   "metadata": {
    "scrolled": true
   },
   "outputs": [],
   "source": [
    "from pymatgen.ext.matproj import MPRester\n",
    "from pymatgen.io.cif import CifWriter\n",
    "from IPython.display import FileLink"
   ]
  },
  {
   "cell_type": "code",
   "execution_count": 23,
   "metadata": {},
   "outputs": [
    {
     "name": "stdout",
     "output_type": "stream",
     "text": [
      "Click on the link to download my CIF file\n"
     ]
    },
    {
     "data": {
      "text/html": [
       "<a href='mp-570213.cif' target='_blank'>mp-570213.cif</a><br>"
      ],
      "text/plain": [
       "C:\\Users\\guill\\mp-570213.cif"
      ]
     },
     "metadata": {},
     "output_type": "display_data"
    }
   ],
   "source": [
    "key = \"1sKG6aj6JUQi8D22lH\"\n",
    "material = \"mp-570213\"\n",
    "with MPRester(key) as m:\n",
    "    struct = m.get_structure_by_material_id(material,conventional_unit_cell=True)\n",
    "    w = CifWriter(struct)\n",
    "    w.write_file(material+\".cif\") \n",
    "    print(\"Click on the link to download my CIF file\")\n",
    "    display(FileLink(material+\".cif\"))"
   ]
  },
  {
   "cell_type": "code",
   "execution_count": null,
   "metadata": {},
   "outputs": [],
   "source": []
  }
 ],
 "metadata": {
  "kernelspec": {
   "display_name": "Python 3",
   "language": "python",
   "name": "python3"
  },
  "language_info": {
   "codemirror_mode": {
    "name": "ipython",
    "version": 3
   },
   "file_extension": ".py",
   "mimetype": "text/x-python",
   "name": "python",
   "nbconvert_exporter": "python",
   "pygments_lexer": "ipython3",
   "version": "3.8.3"
  }
 },
 "nbformat": 4,
 "nbformat_minor": 4
}
