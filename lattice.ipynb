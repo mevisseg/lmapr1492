{
 "cells": [
  {
   "cell_type": "code",
   "execution_count": 1,
   "id": "3c3e28f4",
   "metadata": {},
   "outputs": [],
   "source": [
    "from pymatgen.ext.matproj import MPRester\n",
    "from pymatgen.io.cif import CifWriter\n",
    "from IPython.display import FileLink\n",
    "from pymatgen.symmetry.analyzer import SpacegroupAnalyzer"
   ]
  },
  {
   "cell_type": "code",
   "execution_count": 2,
   "id": "e176ce4b",
   "metadata": {},
   "outputs": [
    {
     "name": "stdout",
     "output_type": "stream",
     "text": [
      "Click on the link to download my CIF file\n"
     ]
    },
    {
     "data": {
      "text/html": [
       "<a href='mp-570213.cif' target='_blank'>mp-570213.cif</a><br>"
      ],
      "text/plain": [
       "/home/users/g/m/gmevisse/mp-570213.cif"
      ]
     },
     "metadata": {},
     "output_type": "display_data"
    }
   ],
   "source": [
    "key = \"1sKG6aj6JUQi8D22lH\"  #my key for API access\n",
    "material = \"mp-570213\"   #ID of my material\n",
    "m = MPRester(key)\n",
    "struct = m.get_structure_by_material_id(material,conventional_unit_cell=True) #Getting structure object\n",
    "w = CifWriter(struct)    #Write to CIF\n",
    "w.write_file(material+\".cif\") \n",
    "print(\"Click on the link to download my CIF file\")\n",
    "display(FileLink(material+\".cif\"))"
   ]
  },
  {
   "cell_type": "code",
   "execution_count": 15,
   "id": "0ad387ed",
   "metadata": {
    "scrolled": true
   },
   "outputs": [
    {
     "name": "stdout",
     "output_type": "stream",
     "text": [
      "Vecteurs du réseau direct : \n",
      "\n",
      "6.849424 0.000000 0.000000\n",
      "0.000000 6.849424 0.000000\n",
      "0.000000 0.000000 6.849424\n",
      "\n",
      "Longueurs en Angström : \n",
      "\n",
      "a = 6.849424\n",
      "b = 6.849424\n",
      "c = 6.849424\n",
      "\n",
      "Angles (en degrés) : \n",
      "\n",
      "alpha =  90.0\n",
      "beta =  90.0\n",
      "gamma =  90.0\n",
      "Vecteurs du réseau réciproque : \n",
      "\n",
      "0.917330 -0.000000 0.000000\n",
      "0.000000 0.917330 0.000000\n",
      "-0.000000 -0.000000 0.917330\n",
      "\n",
      "Longueurs en Angström : \n",
      "\n",
      "a = 0.9173304656244943\n",
      "b = 0.9173304656244943\n",
      "c = 0.9173304656244943\n",
      "\n",
      "Angles (en degrés) : \n",
      "\n",
      "alpha =  90.00000000000001\n",
      "beta =  90.00000000000001\n",
      "gamma =  90.00000000000001\n",
      "\n",
      "Type de maille : \n",
      "\n",
      "cubic\n",
      "\n",
      "Système cristallin : \n",
      "\n",
      "cubic\n",
      "\n",
      "Groupe ponctuel : \n",
      "\n",
      "-43m\n"
     ]
    }
   ],
   "source": [
    "vect = struct.lattice\n",
    "print(\"Vecteurs du réseau direct : \\n\")\n",
    "print(vect)\n",
    "lengths = vect.abc\n",
    "print(\"\\nLongueurs en Angström : \\n\")\n",
    "print(\"a = \" + str(lengths[0]))\n",
    "print(\"b = \" + str(lengths[1]))\n",
    "print(\"c = \" + str(lengths[2]))\n",
    "print(\"\\nAngles (en degrés) : \\n\")\n",
    "angle = vect.angles\n",
    "print(\"alpha = \",angle[0])\n",
    "print(\"beta = \",angle[1])\n",
    "print(\"gamma = \",angle[2])\n",
    "\n",
    "vect_r = struct.lattice.reciprocal_lattice\n",
    "print(\"Vecteurs du réseau réciproque : \\n\")\n",
    "print(vect_r)\n",
    "lengths_r = vect_r.abc\n",
    "print(\"\\nLongueurs en Angström : \\n\")\n",
    "print(\"a = \" + str(lengths_r[0]))\n",
    "print(\"b = \" + str(lengths_r[1]))\n",
    "print(\"c = \" + str(lengths_r[2]))\n",
    "print(\"\\nAngles (en degrés) : \\n\")\n",
    "angle_r = vect_r.angles\n",
    "print(\"alpha = \",angle_r[0])\n",
    "print(\"beta = \",angle_r[1])\n",
    "print(\"gamma = \",angle_r[2])\n",
    "\n",
    "print(\"\\nType de maille : \\n\")\n",
    "latt = SpacegroupAnalyzer(struct).get_lattice_type()\n",
    "print(latt[:])\n",
    "\n",
    "print(\"\\nSystème cristallin : \\n\")\n",
    "syst = SpacegroupAnalyzer(struct).get_crystal_system()\n",
    "print(syst[:])\n",
    "\n",
    "print(\"\\nGroupe ponctuel : \\n\")\n",
    "point = SpacegroupAnalyzer(struct).get_point_group_symbol()\n",
    "print(point)"
   ]
  },
  {
   "cell_type": "code",
   "execution_count": null,
   "id": "a5d47d8d",
   "metadata": {},
   "outputs": [],
   "source": []
  }
 ],
 "metadata": {
  "kernelspec": {
   "display_name": "Python 3",
   "language": "python",
   "name": "python3"
  },
  "language_info": {
   "codemirror_mode": {
    "name": "ipython",
    "version": 3
   },
   "file_extension": ".py",
   "mimetype": "text/x-python",
   "name": "python",
   "nbconvert_exporter": "python",
   "pygments_lexer": "ipython3",
   "version": "3.6.8"
  }
 },
 "nbformat": 4,
 "nbformat_minor": 5
}
